{
 "cells": [
  {
   "cell_type": "code",
   "execution_count": 47,
   "metadata": {
    "colab": {
     "base_uri": "https://localhost:8080/"
    },
    "executionInfo": {
     "elapsed": 4452,
     "status": "ok",
     "timestamp": 1738854354678,
     "user": {
      "displayName": "temp",
      "userId": "03839962735914312798"
     },
     "user_tz": -330
    },
    "id": "1nknsw4GvOoY",
    "outputId": "63e5b98a-ab95-4422-a22e-b48dc50312ba"
   },
   "outputs": [
    {
     "name": "stdout",
     "output_type": "stream",
     "text": [
      "Phase: phase_1 - MSE: 170.1315575418994, R2: 0.20577041364390813\n",
      "Phase: phase_2 - MSE: 58635.99964835165, R2: 0.33898111949319276\n",
      "Phase: phase_3 - MSE: 20134.635540983603, R2: 0.9341114965252224\n",
      "Phase: phase_4 - MSE: 31134.771342222226, R2: 0.9353926450584398\n",
      "Phase: phase_5 - MSE: 201796.14346666666, R2: 0.9603523778558437\n",
      "Phase: phase_6 - MSE: 35499.60558222222, R2: 0.7450494940051786\n",
      "Phase: phase_7 - MSE: 4193.78556424581, R2: 0.1579695196096047\n"
     ]
    }
   ],
   "source": [
    "import pandas as pd\n",
    "import numpy as np\n",
    "from sklearn.model_selection import train_test_split\n",
    "from sklearn.ensemble import RandomForestRegressor\n",
    "from sklearn.preprocessing import StandardScaler\n",
    "import joblib\n",
    "from sklearn.metrics import mean_squared_error, r2_score\n",
    "\n",
    "# Function to train a model for a specific phase\n",
    "def train_model(phase_name, phase_file):\n",
    "    # Load the dataset for the given phase\n",
    "    df = pd.read_csv(phase_file)\n",
    "\n",
    "    # Data Cleaning: Drop rows with missing values\n",
    "    df = df.dropna()\n",
    "\n",
    "    # Define phase-specific features\n",
    "    phase_features = {\n",
    "        \"phase_1\": ['FF', 'APUF_Mean', 'GS_Mean', 'Distance'],\n",
    "        \"phase_2\": ['FF', 'N1T_Mean', 'GS_Mean', 'SAT', 'Distance'],\n",
    "        \"phase_3\": ['FF', 'N1T_Mean', 'TAT', 'PS_Mean', 'Distance'],\n",
    "        \"phase_4\": ['FF', 'N1T_Mean', 'ALTR_Mean', 'GS_Mean', 'Distance'],\n",
    "        \"phase_5\": ['FF', 'TAS_Mean', 'MACH_Mean', 'TAT', 'Distance'],\n",
    "        \"phase_6\": ['FF', 'GS_Mean', 'TAT', 'PT_Mean', 'Distance'],\n",
    "        \"phase_7\": ['FF', 'GS_Mean', 'TRKM_Mean', 'LATP', 'Distance']\n",
    "    }\n",
    "\n",
    "    # Select the relevant features and target for the phase\n",
    "    features = phase_features.get(phase_name)\n",
    "    if not features:\n",
    "        print(f\"Invalid phase name: {phase_name}\")\n",
    "        return\n",
    "\n",
    "    target = 'FQTY_Change'  # Assuming the target column is 'FQTY_Change'\n",
    "    X = df[features]\n",
    "    y = df[target]\n",
    "\n",
    "    # Normalize/Standardize the data\n",
    "    scaler = StandardScaler()\n",
    "    X_scaled = scaler.fit_transform(X)\n",
    "\n",
    "    # Split the data into training and testing sets\n",
    "    X_train, X_test, y_train, y_test = train_test_split(X_scaled, y, test_size=0.2, random_state=42)\n",
    "\n",
    "    # Train a Random Forest Regressor model\n",
    "    model = RandomForestRegressor(n_estimators=100, random_state=42)\n",
    "    model.fit(X_train, y_train)\n",
    "\n",
    "    # Save the model and the scaler to files\n",
    "    joblib.dump(model, f\"model_{phase_name}.joblib\")\n",
    "    joblib.dump(scaler, f\"scaler_{phase_name}.joblib\")\n",
    "\n",
    "    # Model Evaluation (optional)\n",
    "    y_pred = model.predict(X_test)\n",
    "    mse = mean_squared_error(y_test, y_pred)\n",
    "    r2 = r2_score(y_test, y_pred)\n",
    "    print(f\"Phase: {phase_name} - MSE: {mse}, R2: {r2}\")\n",
    "\n",
    "# Example: Training models for each phase\n",
    "if __name__ == \"__main__\":\n",
    "    # Specify the phase names and corresponding files\n",
    "    phase_files = {\n",
    "        \"phase_1\": \"/content/SDG_9/phase_1.csv\",  # Preflight\n",
    "        \"phase_2\": \"/content/SDG_9/phase_2.csv\",  # Taxi\n",
    "        \"phase_3\": \"/content/SDG_9/phase_3.csv\",  # Takeoff\n",
    "        \"phase_4\": \"/content/SDG_9/phase_4.csv\",  # Climb\n",
    "        \"phase_5\": \"/content/SDG_9/phase_5.csv\",  # Cruise\n",
    "        \"phase_6\": \"/content/SDG_9/phase_6.csv\",  # Approach\n",
    "        \"phase_7\": \"/content/SDG_9/phase_7.csv\"   # Rollout\n",
    "    }\n",
    "\n",
    "    # Train models for all phases\n",
    "    for phase_name, file_path in phase_files.items():\n",
    "        train_model(phase_name, file_path)\n"
   ]
  },
  {
   "cell_type": "code",
   "execution_count": 61,
   "metadata": {
    "colab": {
     "base_uri": "https://localhost:8080/"
    },
    "executionInfo": {
     "elapsed": 454,
     "status": "ok",
     "timestamp": 1738858859762,
     "user": {
      "displayName": "temp",
      "userId": "03839962735914312798"
     },
     "user_tz": -330
    },
    "id": "qWQp_6AwzBGq",
    "outputId": "4856d022-9788-4a7a-c5be-f57e8b80de9e"
   },
   "outputs": [
    {
     "name": "stderr",
     "output_type": "stream",
     "text": [
      "/usr/local/lib/python3.11/dist-packages/sklearn/utils/validation.py:2739: UserWarning: X does not have valid feature names, but StandardScaler was fitted with feature names\n",
      "  warnings.warn(\n",
      "/usr/local/lib/python3.11/dist-packages/sklearn/utils/validation.py:2739: UserWarning: X does not have valid feature names, but StandardScaler was fitted with feature names\n",
      "  warnings.warn(\n",
      "/usr/local/lib/python3.11/dist-packages/sklearn/utils/validation.py:2739: UserWarning: X does not have valid feature names, but StandardScaler was fitted with feature names\n",
      "  warnings.warn(\n",
      "/usr/local/lib/python3.11/dist-packages/sklearn/utils/validation.py:2739: UserWarning: X does not have valid feature names, but StandardScaler was fitted with feature names\n",
      "  warnings.warn(\n",
      "/usr/local/lib/python3.11/dist-packages/sklearn/utils/validation.py:2739: UserWarning: X does not have valid feature names, but StandardScaler was fitted with feature names\n",
      "  warnings.warn(\n"
     ]
    },
    {
     "name": "stdout",
     "output_type": "stream",
     "text": [
      "Predicted fuel quantity change for phase_1: 97.92\n",
      "Predicted fuel quantity change for phase_2: 935.28\n",
      "Predicted fuel quantity change for phase_3: 5641.12\n",
      "Predicted fuel quantity change for phase_4: 4712.16\n",
      "Predicted fuel quantity change for phase_5: 5592.16\n",
      "Predicted fuel quantity change for phase_6: 3129.44\n",
      "Predicted fuel quantity change for phase_7: -39.2\n"
     ]
    },
    {
     "name": "stderr",
     "output_type": "stream",
     "text": [
      "/usr/local/lib/python3.11/dist-packages/sklearn/utils/validation.py:2739: UserWarning: X does not have valid feature names, but StandardScaler was fitted with feature names\n",
      "  warnings.warn(\n",
      "/usr/local/lib/python3.11/dist-packages/sklearn/utils/validation.py:2739: UserWarning: X does not have valid feature names, but StandardScaler was fitted with feature names\n",
      "  warnings.warn(\n"
     ]
    }
   ],
   "source": [
    "import numpy as np\n",
    "import joblib\n",
    "\n",
    "# Function to predict fuel quantity change based on phase\n",
    "def predict_fuel_quantity(phase_name, input_data):\n",
    "    # Load the trained model and scaler for the given phase\n",
    "    model = joblib.load(f\"model_{phase_name}.joblib\")\n",
    "    scaler = joblib.load(f\"scaler_{phase_name}.joblib\")\n",
    "\n",
    "    # Define phase-specific features (input parameters)\n",
    "    phase_features = {\n",
    "        \"phase_1\": ['FF', 'APUF_Mean', 'GS_Mean', 'Distance'],\n",
    "        \"phase_2\": ['FF', 'N1T_Mean', 'GS_Mean', 'SAT', 'Distance'],\n",
    "        \"phase_3\": ['FF', 'N1T_Mean', 'TAT', 'PS_Mean', 'Distance'],\n",
    "        \"phase_4\": ['FF', 'N1T_Mean', 'ALTR_Mean', 'GS_Mean', 'Distance'],\n",
    "        \"phase_5\": ['FF', 'TAS_Mean', 'MACH_Mean', 'TAT', 'Distance'],\n",
    "        \"phase_6\": ['FF', 'GS_Mean', 'TAT', 'PT_Mean', 'Distance'],\n",
    "        \"phase_7\": ['FF', 'GS_Mean', 'TRKM_Mean', 'LATP', 'Distance']\n",
    "    }\n",
    "\n",
    "    # Get the features for the specified phase\n",
    "    features = phase_features.get(phase_name)\n",
    "    if not features:\n",
    "        print(f\"Invalid phase name: {phase_name}\")\n",
    "        return None\n",
    "\n",
    "    # Ensure that the input_data has the same order of features as expected by the model\n",
    "    input_data = np.array(input_data).reshape(1, -1)\n",
    "\n",
    "    # Standardize the input data using the loaded scaler\n",
    "    input_data_scaled = scaler.transform(input_data)\n",
    "\n",
    "    # Predict the fuel quantity change\n",
    "    predicted_fq = model.predict(input_data_scaled)\n",
    "    return predicted_fq[0]\n",
    "\n",
    "# Specific input data based on the values provided\n",
    "input_data= {\n",
    "    \"FF\": 4465.221122,\n",
    "    \"N1T_Mean\": 77.09976224,\n",
    "    \"APUF_Mean\": 0,\n",
    "    \"ALT_Mean\": 17731.18517,\n",
    "    \"ALTR_Mean\": -13.87741631,\n",
    "    \"GS_Mean\": 336.9670483,\n",
    "    \"TAS_Mean\": 318.0284211,\n",
    "    \"MACH_Mean\": 0.523525214,\n",
    "    \"DA_Mean\": -3.118623179,\n",
    "    \"SAT\": -17.87947902,\n",
    "    \"TAT\": -2.337164074,\n",
    "    \"WD_Mean\": -62.41109172,\n",
    "    \"WS_Mean\": 57.20965571,\n",
    "    \"PS_Mean\": 16.45111219,\n",
    "    \"PT_Mean\": 659.2318445,\n",
    "    \"TOCW_Mean\": 0,\n",
    "    \"TRK_Mean\": 138.3261331,\n",
    "    \"TRKM_Mean\": 136.4121042,\n",
    "    \"LATP\": 41.39153364,\n",
    "    \"Distance\": 723.2998876\n",
    "}\n",
    "\n",
    "\n",
    "\n",
    "\n",
    "# Prepare input data for each phase\n",
    "phase_1_input = [input_data[\"FF\"], input_data[\"APUF_Mean\"], input_data[\"GS_Mean\"], input_data[\"Distance\"]]\n",
    "phase_2_input = [input_data[\"FF\"], input_data[\"N1T_Mean\"], input_data[\"GS_Mean\"], input_data[\"SAT\"], input_data[\"Distance\"]]\n",
    "phase_3_input = [input_data[\"FF\"], input_data[\"N1T_Mean\"], input_data[\"TAT\"], input_data[\"PS_Mean\"], input_data[\"Distance\"]]\n",
    "phase_4_input = [input_data[\"FF\"], input_data[\"N1T_Mean\"], input_data[\"ALTR_Mean\"], input_data[\"GS_Mean\"], input_data[\"Distance\"]]\n",
    "phase_5_input = [input_data[\"FF\"], input_data[\"TAS_Mean\"], input_data[\"MACH_Mean\"], input_data[\"TAT\"], input_data[\"Distance\"]]\n",
    "phase_6_input = [input_data[\"FF\"], input_data[\"GS_Mean\"], input_data[\"TAT\"], input_data[\"PT_Mean\"], input_data[\"Distance\"]]\n",
    "phase_7_input = [input_data[\"FF\"], input_data[\"GS_Mean\"], input_data[\"TRKM_Mean\"], input_data[\"LATP\"], input_data[\"Distance\"]]\n",
    "\n",
    "# Example: Test for each phase\n",
    "phases = {\n",
    "    \"phase_1\": phase_1_input,\n",
    "    \"phase_2\": phase_2_input,\n",
    "    \"phase_3\": phase_3_input,\n",
    "    \"phase_4\": phase_4_input,\n",
    "    \"phase_5\": phase_5_input,\n",
    "    \"phase_6\": phase_6_input,\n",
    "    \"phase_7\": phase_7_input\n",
    "}\n",
    "\n",
    "# Predict for each phase and print the results\n",
    "for phase_name, input_data in phases.items():\n",
    "    predicted_fuel_quantity = predict_fuel_quantity(phase_name, input_data)\n",
    "    print(f\"Predicted fuel quantity change for {phase_name}: {predicted_fuel_quantity}\")\n"
   ]
  },
  {
   "cell_type": "code",
   "execution_count": null,
   "metadata": {
    "id": "IX_MdqffzQYh"
   },
   "outputs": [],
   "source": []
  }
 ],
 "metadata": {
  "colab": {
   "authorship_tag": "ABX9TyNkRkAnoA9mXzJrOAPm3c6F",
   "provenance": []
  },
  "kernelspec": {
   "display_name": "Python 3",
   "name": "python3"
  },
  "language_info": {
   "name": "python"
  }
 },
 "nbformat": 4,
 "nbformat_minor": 0
}
